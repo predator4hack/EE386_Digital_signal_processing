{
 "cells": [
  {
   "cell_type": "markdown",
   "metadata": {
    "id": "MCq-irMhm1Is"
   },
   "source": [
    "   **Assignment_1(EE319)**\n",
    "\n",
    "   Name: Haneesh Uppalapati\n",
    "   \n",
    "   Roll no:191EE120\n"
   ]
  },
  {
   "cell_type": "markdown",
   "metadata": {
    "id": "65bjfwH2ixoZ"
   },
   "source": [
    "\n",
    "\n",
    "1. Plot the different network activation (transferFcn) as attached below\n",
    "\n",
    "2. Consider input (x) varies between -6 to +6 at the 0.1 intervals.\n",
    "\n",
    "3. Also, explain the condition or mathematical expression for classification (0 or 1) of all\n",
    "\n",
    "\n"
   ]
  },
  {
   "cell_type": "code",
   "execution_count": 3,
   "metadata": {
    "executionInfo": {
     "elapsed": 390,
     "status": "ok",
     "timestamp": 1630059114981,
     "user": {
      "displayName": "Haneesh Uppalapati",
      "photoUrl": "",
      "userId": "05298604624107054604"
     },
     "user_tz": -330
    },
    "id": "uCeQT4k_fnVD"
   },
   "outputs": [],
   "source": [
    "# import libraries\n",
    "import pandas as pan    \n",
    "import numpy as np \n",
    "import matplotlib.pyplot as pypl\n",
    "import math\n",
    "%matplotlib inline"
   ]
  },
  {
   "cell_type": "code",
   "execution_count": 9,
   "metadata": {
    "executionInfo": {
     "elapsed": 408,
     "status": "ok",
     "timestamp": 1630059414458,
     "user": {
      "displayName": "Haneesh Uppalapati",
      "photoUrl": "",
      "userId": "05298604624107054604"
     },
     "user_tz": -330
    },
    "id": "eGR6rhlvgYzy"
   },
   "outputs": [],
   "source": [
    "# Range of x-axis\n",
    "x=np.arange(start = -6, stop = 6, step = 0.1)"
   ]
  },
  {
   "cell_type": "markdown",
   "metadata": {
    "id": "XOIJ3BFznuha"
   },
   "source": [
    "**1. Competitive Transfer Funtion (compet)**\n",
    "\n",
    "  a=1 , neuron with maximum of n\n",
    "  \n",
    "  a=0 , for the rest of input\n"
   ]
  },
  {
   "cell_type": "code",
   "execution_count": null,
   "metadata": {
    "colab": {
     "base_uri": "https://localhost:8080/",
     "height": 265
    },
    "executionInfo": {
     "elapsed": 495,
     "status": "ok",
     "timestamp": 1630049023718,
     "user": {
      "displayName": "Haneesh Uppalapati",
      "photoUrl": "",
      "userId": "05298604624107054604"
     },
     "user_tz": -330
    },
    "id": "F9rQi9ccjJe_",
    "outputId": "d614bf96-b8d6-43b6-e8dc-7a0c10cf134d"
   },
   "outputs": [
    {
     "data": {
      "image/png": "[encoded data removed]",
      "text/plain": [
       "<Figure size 432x288 with 1 Axes>"
      ]
     },
     "metadata": {
      "needs_background": "light"
     },
     "output_type": "display_data"
    }
   ],
   "source": [
    "y= []     #the output function\n",
    "maximum = max(x)\n",
    "\n",
    "for i, point in enumerate(x):\n",
    "    if point == maximum:\n",
    "         y.append(1)\n",
    "    else:\n",
    "         y.append(0)  \n",
    "\n",
    "pypl.plot(x,y) \n",
    "pypl.show() "
   ]
  },
  {
   "cell_type": "markdown",
   "metadata": {
    "id": "7SIwwOhUo1Lq"
   },
   "source": [
    "**2.Hard Limit Transfer Function(hardim)**\n",
    "\n",
    "a=0, when n<0\n",
    "\n",
    "a=1, when n>=0"
   ]
  },
  {
   "cell_type": "code",
   "execution_count": null,
   "metadata": {
    "colab": {
     "base_uri": "https://localhost:8080/",
     "height": 265
    },
    "executionInfo": {
     "elapsed": 424,
     "status": "ok",
     "timestamp": 1630049029793,
     "user": {
      "displayName": "Haneesh Uppalapati",
      "photoUrl": "",
      "userId": "05298604624107054604"
     },
     "user_tz": -330
    },
    "id": "3CIrHXeLmXae",
    "outputId": "3d45a6f4-12bf-4733-cd91-6ff5a09a2bd6"
   },
   "outputs": [
    {
     "data": {
      "image/png": "[encoded data removed]",
      "text/plain": [
       "<Figure size 432x288 with 1 Axes>"
      ]
     },
     "metadata": {
      "needs_background": "light"
     },
     "output_type": "display_data"
    }
   ],
   "source": [
    "y=[]\n",
    "\n",
    "for point in x:\n",
    "   if point >= 0:\n",
    "        y.append(1)\n",
    "   else:\n",
    "        y.append(0)   \n",
    "\n",
    "pypl.plot(x,y)\n",
    "pypl.show()      "
   ]
  },
  {
   "cell_type": "markdown",
   "metadata": {
    "id": "w9g6GIU0pckH"
   },
   "source": [
    "**3.Symmetric Hard Limit Transfer Function(hardlims)**\n",
    "\n",
    "a=-1, when n<0\n",
    "\n",
    "a=1, when n>=0"
   ]
  },
  {
   "cell_type": "code",
   "execution_count": null,
   "metadata": {
    "colab": {
     "base_uri": "https://localhost:8080/",
     "height": 265
    },
    "executionInfo": {
     "elapsed": 16,
     "status": "ok",
     "timestamp": 1630049032631,
     "user": {
      "displayName": "Haneesh Uppalapati",
      "photoUrl": "",
      "userId": "05298604624107054604"
     },
     "user_tz": -330
    },
    "id": "Aj0lu80vnSAs",
    "outputId": "96146203-c609-4a19-8910-d9ad8f75789f"
   },
   "outputs": [
    {
     "data": {
      "image/png": "[encoded data removed]",
      "text/plain": [
       "<Figure size 432x288 with 1 Axes>"
      ]
     },
     "metadata": {
      "needs_background": "light"
     },
     "output_type": "display_data"
    }
   ],
   "source": [
    "y = []\n",
    "\n",
    "for point in x:\n",
    "   if point >= 0:\n",
    "        y.append(1)\n",
    "   else:\n",
    "        y.append(-1)\n",
    "\n",
    "pypl.plot(x,y)\n",
    "pypl.show()      \n"
   ]
  },
  {
   "cell_type": "markdown",
   "metadata": {
    "id": "GlmsMmarqSZ7"
   },
   "source": [
    "**4. Log Sigmoid Transfer Function(logsig)**\n",
    "\n",
    "a=$\\frac{1}{1+e^{-x}}$ \n",
    "\n",
    "\n",
    "\n"
   ]
  },
  {
   "cell_type": "code",
   "execution_count": null,
   "metadata": {
    "colab": {
     "base_uri": "https://localhost:8080/",
     "height": 265
    },
    "executionInfo": {
     "elapsed": 462,
     "status": "ok",
     "timestamp": 1630049036471,
     "user": {
      "displayName": "Haneesh Uppalapati",
      "photoUrl": "",
      "userId": "05298604624107054604"
     },
     "user_tz": -330
    },
    "id": "vHurGBcIn-l0",
    "outputId": "7541ec69-b6c3-4f17-b19e-c4260f30b596"
   },
   "outputs": [
    {
     "data": {
      "image/png": "[encoded data removed]",
      "text/plain": [
       "<Figure size 432x288 with 1 Axes>"
      ]
     },
     "metadata": {
      "needs_background": "light"
     },
     "output_type": "display_data"
    }
   ],
   "source": [
    "f = np.vectorize(math.exp)\n",
    "\n",
    "y = 1/(1+f(-x))\n",
    "\n",
    "pypl.plot(x,y)\n",
    "pypl.show()\n"
   ]
  },
  {
   "cell_type": "markdown",
   "metadata": {
    "id": "UXwW7OzJ_PAk"
   },
   "source": [
    "**5. Positive Linear Transfer Function (poslin)**\n",
    "\n",
    "a=0, when n<0\n",
    "\n",
    "a=1, when n>=0"
   ]
  },
  {
   "cell_type": "code",
   "execution_count": null,
   "metadata": {
    "colab": {
     "base_uri": "https://localhost:8080/",
     "height": 265
    },
    "executionInfo": {
     "elapsed": 415,
     "status": "ok",
     "timestamp": 1630049104611,
     "user": {
      "displayName": "Haneesh Uppalapati",
      "photoUrl": "",
      "userId": "05298604624107054604"
     },
     "user_tz": -330
    },
    "id": "69vsloHmojX7",
    "outputId": "74ebc1d5-a205-40ad-b51e-aaae5f194570"
   },
   "outputs": [
    {
     "data": {
      "image/png": "[encoded data removed]",
      "text/plain": [
       "<Figure size 432x288 with 1 Axes>"
      ]
     },
     "metadata": {
      "needs_background": "light"
     },
     "output_type": "display_data"
    }
   ],
   "source": [
    "y = []\n",
    "\n",
    "for point in x:\n",
    "   if point >= 0:\n",
    "        y.append(point)\n",
    "   else:\n",
    "        y.append(0)\n",
    "\n",
    "pypl.plot(x,y)\n",
    "pypl.show()      "
   ]
  },
  {
   "cell_type": "markdown",
   "metadata": {
    "id": "Q19wpWS9_siz"
   },
   "source": [
    "**6. Hard Limit Transfer Function (purelin)**\n",
    "\n",
    "a=n, for all n"
   ]
  },
  {
   "cell_type": "code",
   "execution_count": null,
   "metadata": {
    "colab": {
     "base_uri": "https://localhost:8080/",
     "height": 265
    },
    "executionInfo": {
     "elapsed": 404,
     "status": "ok",
     "timestamp": 1630001259519,
     "user": {
      "displayName": "Haneesh Uppalapati",
      "photoUrl": "",
      "userId": "05298604624107054604"
     },
     "user_tz": -330
    },
    "id": "kRDpKdk2pH-G",
    "outputId": "bfb3612d-5904-4742-d08f-964725ec7a94"
   },
   "outputs": [
    {
     "data": {
      "image/png": "[encoded data removed]",
      "text/plain": [
       "<Figure size 432x288 with 1 Axes>"
      ]
     },
     "metadata": {
      "needs_background": "light"
     },
     "output_type": "display_data"
    }
   ],
   "source": [
    "y= []\n",
    "\n",
    "y=x\n",
    "\n",
    "pypl.plot(x,y)\n",
    "pypl.show()\n"
   ]
  },
  {
   "cell_type": "markdown",
   "metadata": {
    "id": "NN7zuY-7AI5b"
   },
   "source": [
    "**7. Radial Basis Transfer Function (radbas)**\n",
    "\n",
    "a= $e^{-n^{2}}$"
   ]
  },
  {
   "cell_type": "code",
   "execution_count": null,
   "metadata": {
    "colab": {
     "base_uri": "https://localhost:8080/",
     "height": 265
    },
    "executionInfo": {
     "elapsed": 441,
     "status": "ok",
     "timestamp": 1630001388435,
     "user": {
      "displayName": "Haneesh Uppalapati",
      "photoUrl": "",
      "userId": "05298604624107054604"
     },
     "user_tz": -330
    },
    "id": "jyfvzqLOpgLl",
    "outputId": "01ce3c28-a490-48bd-b954-4b3e8e034a3e"
   },
   "outputs": [
    {
     "data": {
      "image/png": "[encoded data removed]",
      "text/plain": [
       "<Figure size 432x288 with 1 Axes>"
      ]
     },
     "metadata": {
      "needs_background": "light"
     },
     "output_type": "display_data"
    }
   ],
   "source": [
    "f=np.vectorize(math.exp)\n",
    "\n",
    "y=f(-x*x)\n",
    "\n",
    "pypl.plot(x,y)\n",
    "pypl.show()"
   ]
  },
  {
   "cell_type": "markdown",
   "metadata": {
    "id": "fNMYc2oNAqzF"
   },
   "source": [
    "**8. Saturating Linear Transfer Function (satlin)**\n",
    "\n",
    "a=0, when n<0\n",
    "\n",
    "a=n, when 0 <= n <= 1"
   ]
  },
  {
   "cell_type": "code",
   "execution_count": null,
   "metadata": {
    "colab": {
     "base_uri": "https://localhost:8080/",
     "height": 265
    },
    "executionInfo": {
     "elapsed": 666,
     "status": "ok",
     "timestamp": 1630001626848,
     "user": {
      "displayName": "Haneesh Uppalapati",
      "photoUrl": "",
      "userId": "05298604624107054604"
     },
     "user_tz": -330
    },
    "id": "o2QbMeCzp3pj",
    "outputId": "e6ebd84e-e038-46bd-b6af-b5f88730e335"
   },
   "outputs": [
    {
     "data": {
      "image/png": "[encoded data removed]",
      "text/plain": [
       "<Figure size 432x288 with 1 Axes>"
      ]
     },
     "metadata": {
      "needs_background": "light"
     },
     "output_type": "display_data"
    }
   ],
   "source": [
    "y = []\n",
    "\n",
    "for point in x:\n",
    "   if point >= 0 and point<=1:\n",
    "        y.append(point)\n",
    "   elif point > 1:\n",
    "        y.append(1)\n",
    "   else:\n",
    "        y.append(0)\n",
    "\n",
    "pypl.plot(x,y)\n",
    "pypl.show()\n"
   ]
  },
  {
   "cell_type": "markdown",
   "metadata": {
    "id": "vH1eA5YSBSHj"
   },
   "source": [
    "**9. Symmetric Saturating Linear Transfer Function(satlins)**\n",
    "\n",
    "a=-1, when n<-1\n",
    "\n",
    "a=n,  when -1 <= n <= 1"
   ]
  },
  {
   "cell_type": "code",
   "execution_count": null,
   "metadata": {
    "colab": {
     "base_uri": "https://localhost:8080/",
     "height": 265
    },
    "executionInfo": {
     "elapsed": 772,
     "status": "ok",
     "timestamp": 1630001734990,
     "user": {
      "displayName": "Haneesh Uppalapati",
      "photoUrl": "",
      "userId": "05298604624107054604"
     },
     "user_tz": -330
    },
    "id": "5r9ktXMuq7mb",
    "outputId": "90eff5ff-e02d-4ea5-c52f-fa22db7607b9"
   },
   "outputs": [
    {
     "data": {
      "image/png": "[encoded data removed]",
      "text/plain": [
       "<Figure size 432x288 with 1 Axes>"
      ]
     },
     "metadata": {
      "needs_background": "light"
     },
     "output_type": "display_data"
    }
   ],
   "source": [
    "y = []\n",
    "\n",
    "for point in x:\n",
    "   if point >= -1 and point<=1:\n",
    "        y.append(point)\n",
    "   elif point > 1:\n",
    "        y.append(1)\n",
    "   else:\n",
    "        y.append(-1)\n",
    "\n",
    "pypl.plot(x,y)\n",
    "pypl.show()\n"
   ]
  },
  {
   "cell_type": "markdown",
   "metadata": {
    "id": "xR9W9VbrCNRD"
   },
   "source": [
    "**10. Soft Max Transfer (softmax)**\n",
    "\n",
    "a=$\\frac{e^{n}}{\\sum_{i}e^{n}}$"
   ]
  },
  {
   "cell_type": "code",
   "execution_count": null,
   "metadata": {
    "colab": {
     "base_uri": "https://localhost:8080/",
     "height": 265
    },
    "executionInfo": {
     "elapsed": 899,
     "status": "ok",
     "timestamp": 1630001889222,
     "user": {
      "displayName": "Haneesh Uppalapati",
      "photoUrl": "",
      "userId": "05298604624107054604"
     },
     "user_tz": -330
    },
    "id": "C3Z6YLsZrMgk",
    "outputId": "b2bd6d23-56f4-4390-bb8a-f6d8a614d4ff"
   },
   "outputs": [
    {
     "data": {
      "image/png": "[encoded data removed]",
      "text/plain": [
       "<Figure size 432x288 with 1 Axes>"
      ]
     },
     "metadata": {
      "needs_background": "light"
     },
     "output_type": "display_data"
    }
   ],
   "source": [
    "f = np.vectorize(math.exp)\n",
    "\n",
    "sum_exp = np.sum(f(x))\n",
    "y=f(x)/sum_exp\n",
    "\n",
    "pypl.plot(x,y)\n",
    "pypl.show()\n"
   ]
  },
  {
   "cell_type": "markdown",
   "metadata": {
    "id": "wOSPhOR_E08g"
   },
   "source": [
    "**11. Hyperbolic Tangent Sigmoid (tansig)**\n",
    "\n",
    "a=$\\frac{2}{1+e^{-2n}}$-1"
   ]
  },
  {
   "cell_type": "code",
   "execution_count": 10,
   "metadata": {
    "colab": {
     "base_uri": "https://localhost:8080/",
     "height": 265
    },
    "executionInfo": {
     "elapsed": 485,
     "status": "ok",
     "timestamp": 1630059424132,
     "user": {
      "displayName": "Haneesh Uppalapati",
      "photoUrl": "",
      "userId": "05298604624107054604"
     },
     "user_tz": -330
    },
    "id": "KzHb5LARrxje",
    "outputId": "150f8c0e-654c-4d5b-e09b-e72fcd01e521"
   },
   "outputs": [
    {
     "data": {
      "image/png": "[encoded data removed]",
      "text/plain": [
       "<Figure size 432x288 with 1 Axes>"
      ]
     },
     "metadata": {
      "needs_background": "light"
     },
     "output_type": "display_data"
    }
   ],
   "source": [
    "f= np.vectorize(math.exp)\n",
    "\n",
    "y = 2/(1+f(-2*x)) -1\n",
    "\n",
    "pypl.plot(x,y)\n",
    "pypl.show()\n"
   ]
  },
  {
   "cell_type": "markdown",
   "metadata": {
    "id": "gzoMJKNRFabx"
   },
   "source": [
    "**12. Triangular basis (tribas)**\n",
    "\n",
    "a = 1-|n|, when -1 <= n <= 1\n",
    "\n",
    "a = 0, in other cases"
   ]
  },
  {
   "cell_type": "code",
   "execution_count": null,
   "metadata": {
    "colab": {
     "base_uri": "https://localhost:8080/",
     "height": 265
    },
    "executionInfo": {
     "elapsed": 423,
     "status": "ok",
     "timestamp": 1630002161943,
     "user": {
      "displayName": "Haneesh Uppalapati",
      "photoUrl": "",
      "userId": "05298604624107054604"
     },
     "user_tz": -330
    },
    "id": "ADkwE5i-sQtz",
    "outputId": "5880dea8-3e69-4cc5-f8dd-018d4e0b5854"
   },
   "outputs": [
    {
     "data": {
      "image/png": "[encoded data removed]",
      "text/plain": [
       "<Figure size 432x288 with 1 Axes>"
      ]
     },
     "metadata": {
      "needs_background": "light"
     },
     "output_type": "display_data"
    }
   ],
   "source": [
    "y=[]\n",
    "\n",
    "for point in x:\n",
    "  if point >= -1 and point <= 1:\n",
    "       y.append(1-abs(point))\n",
    "  else:\n",
    "       y.append(0)\n",
    "\n",
    "pypl.plot(x,y)\n",
    "pypl.show()"
   ]
  }
 ],
 "metadata": {
  "colab": {
   "authorship_tag": "ABX9TyMjtIbRKy/AnKBXpncf41VW",
   "collapsed_sections": [],
   "name": "Copy of Copy of EE319_A1.ipynb",
   "provenance": [
    {
     "file_id": "1zO4GVVQe_70Fcm27ysIsYviK6vlCE_uh",
     "timestamp": 1630049363471
    },
    {
     "file_id": "1SW-x1eNp8o1TWKnzw5G4HalxQjAEWGrh",
     "timestamp": 1630004805534
    }
   ]
  },
  "kernelspec": {
   "display_name": "Python 3",
   "language": "python",
   "name": "python3"
  },
  "language_info": {
   "codemirror_mode": {
    "name": "ipython",
    "version": 3
   },
   "file_extension": ".py",
   "mimetype": "text/x-python",
   "name": "python",
   "nbconvert_exporter": "python",
   "pygments_lexer": "ipython3",
   "version": "3.8.3"
  }
 },
 "nbformat": 4,
 "nbformat_minor": 1
}
